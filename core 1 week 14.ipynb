{
 "cells": [
  {
   "cell_type": "markdown",
   "id": "86a1a30b",
   "metadata": {},
   "source": [
    "Ninja: Raged abou\n",
    "week 14 Core No 1"
   ]
  },
  {
   "cell_type": "code",
   "execution_count": 1,
   "id": "feb7dcbb",
   "metadata": {},
   "outputs": [],
   "source": [
    "#import necessary library\n",
    "import numpy as np\n",
    "import pandas as pd\n",
    "import matplotlib.pyplot as plt\n",
    "import seaborn as sns\n",
    "#additional imports\n",
    "import os, json, math, time\n",
    "from yelpapi import YelpAPI\n",
    "from tqdm.notebook import tqdm_notebook"
   ]
  },
  {
   "cell_type": "code",
   "execution_count": 4,
   "id": "c6f55894",
   "metadata": {},
   "outputs": [
    {
     "data": {
      "text/plain": [
       "dict_keys(['client-id', 'api-key'])"
      ]
     },
     "execution_count": 4,
     "metadata": {},
     "output_type": "execute_result"
    }
   ],
   "source": [
    "#Load in your API credentials using the JSON module\n",
    "#display what keys are in the dictionary\n",
    "with open ('C:/Users/raged/.secret/yelp_api.json') as f:\n",
    "    login = json.load(f)\n",
    "login.keys()"
   ]
  },
  {
   "cell_type": "code",
   "execution_count": 5,
   "id": "2949b6da",
   "metadata": {},
   "outputs": [
    {
     "data": {
      "text/plain": [
       "<yelpapi.yelpapi.YelpAPI at 0x20591183c48>"
      ]
     },
     "execution_count": 5,
     "metadata": {},
     "output_type": "execute_result"
    }
   ],
   "source": [
    "yelp_api = YelpAPI(login['api-key'], timeout_s = 5.0)\n",
    "yelp_api"
   ]
  },
  {
   "cell_type": "code",
   "execution_count": 6,
   "id": "b3ccd7c1",
   "metadata": {},
   "outputs": [],
   "source": [
    "#set our API call parametrs and filename before first call\n",
    "LOCATION = 'Destin, FL, 32550'\n",
    "TERM = 'Pizza'"
   ]
  },
  {
   "cell_type": "code",
   "execution_count": 7,
   "id": "44049c33",
   "metadata": {},
   "outputs": [
    {
     "data": {
      "text/plain": [
       "'Data/pizza.json'"
      ]
     },
     "execution_count": 7,
     "metadata": {},
     "output_type": "execute_result"
    }
   ],
   "source": [
    "JSON_FILE = f\"Data/pizza.json\"\n",
    "JSON_FILE"
   ]
  },
  {
   "cell_type": "code",
   "execution_count": 8,
   "id": "7ead84e9",
   "metadata": {},
   "outputs": [
    {
     "name": "stdout",
     "output_type": "stream",
     "text": [
      "[i] Data/pizza.json not found. Saving empty list to file.\n"
     ]
    }
   ],
   "source": [
    "## Check if JSON_FILE exists\n",
    "file_exists = os.path.isfile(JSON_FILE)\n",
    "## If it does not exist: \n",
    "if file_exists == False:\n",
    "    \n",
    "    ## CREATE ANY NEEDED FOLDERS\n",
    "    # Get the Folder Name only\n",
    "    folder = os.path.dirname(JSON_FILE)\n",
    "    ## If JSON_FILE included a folder:\n",
    "    if len(folder)>0:\n",
    "        # create the folder\n",
    "        os.makedirs(folder,exist_ok=True)\n",
    "        \n",
    "        \n",
    "    ## INFORM USER AND SAVE EMPTY LIST\n",
    "    print(f\"[i] {JSON_FILE} not found. Saving empty list to file.\")\n",
    "    \n",
    "    \n",
    "    ## save the first page of results\n",
    "    with open(JSON_FILE,'w') as f:\n",
    "        json.dump([],f)  \n",
    "## If it exists, inform user\n",
    "else:\n",
    "    print(f\"[i] {JSON_FILE} already exists.\")"
   ]
  },
  {
   "cell_type": "code",
   "execution_count": 9,
   "id": "b4c6e5f0",
   "metadata": {},
   "outputs": [
    {
     "name": "stdout",
     "output_type": "stream",
     "text": [
      "-0 previous results found.\n"
     ]
    }
   ],
   "source": [
    "#load previous results and use len of results for offset\n",
    "with open(JSON_FILE, 'r') as f:\n",
    "    previous_results = json.load(f)\n",
    "\n",
    "#set offset based on previous results\n",
    "n_results = len(previous_results)\n",
    "print(f'-{n_results} previous results found.')"
   ]
  },
  {
   "cell_type": "code",
   "execution_count": 10,
   "id": "bff9000e",
   "metadata": {},
   "outputs": [
    {
     "data": {
      "text/plain": [
       "dict_keys(['businesses', 'total', 'region'])"
      ]
     },
     "execution_count": 10,
     "metadata": {},
     "output_type": "execute_result"
    }
   ],
   "source": [
    "results = yelp_api.search_query(location=LOCATION, term=TERM,\n",
    "                               offset=n_results)\n",
    "results.keys()"
   ]
  },
  {
   "cell_type": "code",
   "execution_count": 11,
   "id": "3a2ea883",
   "metadata": {},
   "outputs": [
    {
     "data": {
      "text/plain": [
       "54"
      ]
     },
     "execution_count": 11,
     "metadata": {},
     "output_type": "execute_result"
    }
   ],
   "source": [
    "total_results = results['total']\n",
    "total_results"
   ]
  },
  {
   "cell_type": "code",
   "execution_count": 12,
   "id": "547268fd",
   "metadata": {},
   "outputs": [
    {
     "data": {
      "text/plain": [
       "20"
      ]
     },
     "execution_count": 12,
     "metadata": {},
     "output_type": "execute_result"
    }
   ],
   "source": [
    "results_per_page = len(results['businesses'])\n",
    "results_per_page"
   ]
  },
  {
   "cell_type": "code",
   "execution_count": 13,
   "id": "713d1e2b",
   "metadata": {},
   "outputs": [
    {
     "data": {
      "text/plain": [
       "3"
      ]
     },
     "execution_count": 13,
     "metadata": {},
     "output_type": "execute_result"
    }
   ],
   "source": [
    "n_pages = math.ceil((results['total']-n_results)/results_per_page)\n",
    "n_pages"
   ]
  },
  {
   "cell_type": "code",
   "execution_count": 14,
   "id": "90092312",
   "metadata": {},
   "outputs": [],
   "source": [
    "previous_results.extend(results['businesses'])\n",
    "with open(JSON_FILE, 'w') as f:\n",
    "    json.dump(previous_results, f)"
   ]
  },
  {
   "cell_type": "code",
   "execution_count": 15,
   "id": "908666d6",
   "metadata": {},
   "outputs": [
    {
     "data": {
      "application/vnd.jupyter.widget-view+json": {
       "model_id": "6b749237c73446a8a984de63a498d62b",
       "version_major": 2,
       "version_minor": 0
      },
      "text/plain": [
       "  0%|          | 0/3 [00:00<?, ?it/s]"
      ]
     },
     "metadata": {},
     "output_type": "display_data"
    }
   ],
   "source": [
    "for i in tqdm_notebook(range(n_pages)):\n",
    "    time.sleep(.1) #adds 100ms pause"
   ]
  },
  {
   "cell_type": "code",
   "execution_count": 16,
   "id": "4bab6f4b",
   "metadata": {},
   "outputs": [
    {
     "data": {
      "application/vnd.jupyter.widget-view+json": {
       "model_id": "c24ea034c65149be8bd2486f20afbe63",
       "version_major": 2,
       "version_minor": 0
      },
      "text/plain": [
       "  0%|          | 0/3 [00:00<?, ?it/s]"
      ]
     },
     "metadata": {},
     "output_type": "display_data"
    },
    {
     "name": "stdout",
     "output_type": "stream",
     "text": [
      "Loop completed.\n"
     ]
    }
   ],
   "source": [
    "#for loop to call each page\n",
    "for i in tqdm_notebook(range(1, n_pages+1)):\n",
    "    try:\n",
    "        time.sleep(.2)\n",
    "        #read results in. progress file and check length\n",
    "        with open (JSON_FILE, 'r') as f:\n",
    "            previous_results = json.load(f)\n",
    "        #sae number of results to use as offset\n",
    "        n_results = len(previous_results)\n",
    "        #use n_results as offset\n",
    "        results = yelp_api.search_query(location = LOCATION,\n",
    "                                       term = TERM,\n",
    "                                       offset = n_results+1)\n",
    "        #append new results and save to file\n",
    "        previous_results.extend(results['businesses'])\n",
    "        #disply previous results\n",
    "        with open (JSON_FILE, 'w') as f:\n",
    "            json.dump(previous_results, f)\n",
    "    except Exception as e: \n",
    "        print('[!] ERROR: ', e)\n",
    "        break\n",
    "print('Loop completed.')"
   ]
  },
  {
   "cell_type": "code",
   "execution_count": 17,
   "id": "9c53bc80",
   "metadata": {},
   "outputs": [
    {
     "data": {
      "text/html": [
       "<div>\n",
       "<style scoped>\n",
       "    .dataframe tbody tr th:only-of-type {\n",
       "        vertical-align: middle;\n",
       "    }\n",
       "\n",
       "    .dataframe tbody tr th {\n",
       "        vertical-align: top;\n",
       "    }\n",
       "\n",
       "    .dataframe thead th {\n",
       "        text-align: right;\n",
       "    }\n",
       "</style>\n",
       "<table border=\"1\" class=\"dataframe\">\n",
       "  <thead>\n",
       "    <tr style=\"text-align: right;\">\n",
       "      <th></th>\n",
       "      <th>id</th>\n",
       "      <th>alias</th>\n",
       "      <th>name</th>\n",
       "      <th>image_url</th>\n",
       "      <th>is_closed</th>\n",
       "      <th>url</th>\n",
       "      <th>review_count</th>\n",
       "      <th>categories</th>\n",
       "      <th>rating</th>\n",
       "      <th>coordinates</th>\n",
       "      <th>transactions</th>\n",
       "      <th>price</th>\n",
       "      <th>location</th>\n",
       "      <th>phone</th>\n",
       "      <th>display_phone</th>\n",
       "      <th>distance</th>\n",
       "    </tr>\n",
       "  </thead>\n",
       "  <tbody>\n",
       "    <tr>\n",
       "      <th>0</th>\n",
       "      <td>d-3jSaKDLbixpJSi68dmkA</td>\n",
       "      <td>lost-pizza-co-miramar-beach</td>\n",
       "      <td>Lost Pizza Co.</td>\n",
       "      <td>https://s3-media1.fl.yelpcdn.com/bphoto/kPDJyD...</td>\n",
       "      <td>False</td>\n",
       "      <td>https://www.yelp.com/biz/lost-pizza-co-miramar...</td>\n",
       "      <td>57</td>\n",
       "      <td>[{'alias': 'salad', 'title': 'Salad'}, {'alias...</td>\n",
       "      <td>4.0</td>\n",
       "      <td>{'latitude': 30.380178751719836, 'longitude': ...</td>\n",
       "      <td>[pickup, delivery]</td>\n",
       "      <td>$$</td>\n",
       "      <td>{'address1': '10859 Emerald Coast Pkwy', 'addr...</td>\n",
       "      <td>18503532284</td>\n",
       "      <td>(850) 353-2284</td>\n",
       "      <td>566.470932</td>\n",
       "    </tr>\n",
       "    <tr>\n",
       "      <th>1</th>\n",
       "      <td>EZ2xMgjMRDH0i7xHrg60MA</td>\n",
       "      <td>fat-clemenzas-brick-oven-pizzaria-miramar-beach</td>\n",
       "      <td>Fat Clemenza's Brick Oven Pizzaria</td>\n",
       "      <td>https://s3-media1.fl.yelpcdn.com/bphoto/X7oDkd...</td>\n",
       "      <td>False</td>\n",
       "      <td>https://www.yelp.com/biz/fat-clemenzas-brick-o...</td>\n",
       "      <td>460</td>\n",
       "      <td>[{'alias': 'pizza', 'title': 'Pizza'}, {'alias...</td>\n",
       "      <td>4.0</td>\n",
       "      <td>{'latitude': 30.3843174793238, 'longitude': -8...</td>\n",
       "      <td>[]</td>\n",
       "      <td>$$</td>\n",
       "      <td>{'address1': '12273 US Hwy 98', 'address2': 'S...</td>\n",
       "      <td>18506505980</td>\n",
       "      <td>(850) 650-5980</td>\n",
       "      <td>2530.006888</td>\n",
       "    </tr>\n",
       "    <tr>\n",
       "      <th>2</th>\n",
       "      <td>iYAR-2cqvoujdXjaqApIHA</td>\n",
       "      <td>grimaldis-pizzeria-miramar-beach</td>\n",
       "      <td>Grimaldi's Pizzeria</td>\n",
       "      <td>https://s3-media3.fl.yelpcdn.com/bphoto/MAF954...</td>\n",
       "      <td>False</td>\n",
       "      <td>https://www.yelp.com/biz/grimaldis-pizzeria-mi...</td>\n",
       "      <td>490</td>\n",
       "      <td>[{'alias': 'pizza', 'title': 'Pizza'}]</td>\n",
       "      <td>3.5</td>\n",
       "      <td>{'latitude': 30.378107, 'longitude': -86.310422}</td>\n",
       "      <td>[pickup]</td>\n",
       "      <td>$$</td>\n",
       "      <td>{'address1': '780 Grand Blvd', 'address2': 'St...</td>\n",
       "      <td>18508373095</td>\n",
       "      <td>(850) 837-3095</td>\n",
       "      <td>3854.761112</td>\n",
       "    </tr>\n",
       "    <tr>\n",
       "      <th>3</th>\n",
       "      <td>Ji55iqTfvhHGSd3XQHEdnw</td>\n",
       "      <td>romeos-pizza-miramar-beach-miramar-beach-2</td>\n",
       "      <td>Romeo's Pizza - Miramar Beach</td>\n",
       "      <td>https://s3-media3.fl.yelpcdn.com/bphoto/rAC6xj...</td>\n",
       "      <td>False</td>\n",
       "      <td>https://www.yelp.com/biz/romeos-pizza-miramar-...</td>\n",
       "      <td>53</td>\n",
       "      <td>[{'alias': 'pizza', 'title': 'Pizza'}]</td>\n",
       "      <td>3.5</td>\n",
       "      <td>{'latitude': 30.37751, 'longitude': -86.34229}</td>\n",
       "      <td>[delivery]</td>\n",
       "      <td>NaN</td>\n",
       "      <td>{'address1': '10004 US Hwy 98 W', 'address2': ...</td>\n",
       "      <td>18506548080</td>\n",
       "      <td>(850) 654-8080</td>\n",
       "      <td>854.857138</td>\n",
       "    </tr>\n",
       "    <tr>\n",
       "      <th>4</th>\n",
       "      <td>X5JfOJ1M7CGpLEzVA2vi_Q</td>\n",
       "      <td>pazzo-italiano-destin</td>\n",
       "      <td>Pazzo Italiano</td>\n",
       "      <td>https://s3-media2.fl.yelpcdn.com/bphoto/Usd3lN...</td>\n",
       "      <td>False</td>\n",
       "      <td>https://www.yelp.com/biz/pazzo-italiano-destin...</td>\n",
       "      <td>501</td>\n",
       "      <td>[{'alias': 'pizza', 'title': 'Pizza'}, {'alias...</td>\n",
       "      <td>4.5</td>\n",
       "      <td>{'latitude': 30.3872286880159, 'longitude': -8...</td>\n",
       "      <td>[pickup, delivery]</td>\n",
       "      <td>$$</td>\n",
       "      <td>{'address1': '34904 Emerald Coast Pkwy', 'addr...</td>\n",
       "      <td>18509745484</td>\n",
       "      <td>(850) 974-5484</td>\n",
       "      <td>7496.622128</td>\n",
       "    </tr>\n",
       "  </tbody>\n",
       "</table>\n",
       "</div>"
      ],
      "text/plain": [
       "                       id                                            alias  \\\n",
       "0  d-3jSaKDLbixpJSi68dmkA                      lost-pizza-co-miramar-beach   \n",
       "1  EZ2xMgjMRDH0i7xHrg60MA  fat-clemenzas-brick-oven-pizzaria-miramar-beach   \n",
       "2  iYAR-2cqvoujdXjaqApIHA                 grimaldis-pizzeria-miramar-beach   \n",
       "3  Ji55iqTfvhHGSd3XQHEdnw       romeos-pizza-miramar-beach-miramar-beach-2   \n",
       "4  X5JfOJ1M7CGpLEzVA2vi_Q                            pazzo-italiano-destin   \n",
       "\n",
       "                                 name  \\\n",
       "0                      Lost Pizza Co.   \n",
       "1  Fat Clemenza's Brick Oven Pizzaria   \n",
       "2                 Grimaldi's Pizzeria   \n",
       "3       Romeo's Pizza - Miramar Beach   \n",
       "4                      Pazzo Italiano   \n",
       "\n",
       "                                           image_url  is_closed  \\\n",
       "0  https://s3-media1.fl.yelpcdn.com/bphoto/kPDJyD...      False   \n",
       "1  https://s3-media1.fl.yelpcdn.com/bphoto/X7oDkd...      False   \n",
       "2  https://s3-media3.fl.yelpcdn.com/bphoto/MAF954...      False   \n",
       "3  https://s3-media3.fl.yelpcdn.com/bphoto/rAC6xj...      False   \n",
       "4  https://s3-media2.fl.yelpcdn.com/bphoto/Usd3lN...      False   \n",
       "\n",
       "                                                 url  review_count  \\\n",
       "0  https://www.yelp.com/biz/lost-pizza-co-miramar...            57   \n",
       "1  https://www.yelp.com/biz/fat-clemenzas-brick-o...           460   \n",
       "2  https://www.yelp.com/biz/grimaldis-pizzeria-mi...           490   \n",
       "3  https://www.yelp.com/biz/romeos-pizza-miramar-...            53   \n",
       "4  https://www.yelp.com/biz/pazzo-italiano-destin...           501   \n",
       "\n",
       "                                          categories  rating  \\\n",
       "0  [{'alias': 'salad', 'title': 'Salad'}, {'alias...     4.0   \n",
       "1  [{'alias': 'pizza', 'title': 'Pizza'}, {'alias...     4.0   \n",
       "2             [{'alias': 'pizza', 'title': 'Pizza'}]     3.5   \n",
       "3             [{'alias': 'pizza', 'title': 'Pizza'}]     3.5   \n",
       "4  [{'alias': 'pizza', 'title': 'Pizza'}, {'alias...     4.5   \n",
       "\n",
       "                                         coordinates        transactions  \\\n",
       "0  {'latitude': 30.380178751719836, 'longitude': ...  [pickup, delivery]   \n",
       "1  {'latitude': 30.3843174793238, 'longitude': -8...                  []   \n",
       "2   {'latitude': 30.378107, 'longitude': -86.310422}            [pickup]   \n",
       "3     {'latitude': 30.37751, 'longitude': -86.34229}          [delivery]   \n",
       "4  {'latitude': 30.3872286880159, 'longitude': -8...  [pickup, delivery]   \n",
       "\n",
       "  price                                           location        phone  \\\n",
       "0    $$  {'address1': '10859 Emerald Coast Pkwy', 'addr...  18503532284   \n",
       "1    $$  {'address1': '12273 US Hwy 98', 'address2': 'S...  18506505980   \n",
       "2    $$  {'address1': '780 Grand Blvd', 'address2': 'St...  18508373095   \n",
       "3   NaN  {'address1': '10004 US Hwy 98 W', 'address2': ...  18506548080   \n",
       "4    $$  {'address1': '34904 Emerald Coast Pkwy', 'addr...  18509745484   \n",
       "\n",
       "    display_phone     distance  \n",
       "0  (850) 353-2284   566.470932  \n",
       "1  (850) 650-5980  2530.006888  \n",
       "2  (850) 837-3095  3854.761112  \n",
       "3  (850) 654-8080   854.857138  \n",
       "4  (850) 974-5484  7496.622128  "
      ]
     },
     "metadata": {},
     "output_type": "display_data"
    },
    {
     "data": {
      "text/html": [
       "<div>\n",
       "<style scoped>\n",
       "    .dataframe tbody tr th:only-of-type {\n",
       "        vertical-align: middle;\n",
       "    }\n",
       "\n",
       "    .dataframe tbody tr th {\n",
       "        vertical-align: top;\n",
       "    }\n",
       "\n",
       "    .dataframe thead th {\n",
       "        text-align: right;\n",
       "    }\n",
       "</style>\n",
       "<table border=\"1\" class=\"dataframe\">\n",
       "  <thead>\n",
       "    <tr style=\"text-align: right;\">\n",
       "      <th></th>\n",
       "      <th>id</th>\n",
       "      <th>alias</th>\n",
       "      <th>name</th>\n",
       "      <th>image_url</th>\n",
       "      <th>is_closed</th>\n",
       "      <th>url</th>\n",
       "      <th>review_count</th>\n",
       "      <th>categories</th>\n",
       "      <th>rating</th>\n",
       "      <th>coordinates</th>\n",
       "      <th>transactions</th>\n",
       "      <th>price</th>\n",
       "      <th>location</th>\n",
       "      <th>phone</th>\n",
       "      <th>display_phone</th>\n",
       "      <th>distance</th>\n",
       "    </tr>\n",
       "  </thead>\n",
       "  <tbody>\n",
       "    <tr>\n",
       "      <th>48</th>\n",
       "      <td>o2vKK2oZayH3xXKJBcYIeg</td>\n",
       "      <td>marble-slab-creamery-destin</td>\n",
       "      <td>Marble Slab Creamery</td>\n",
       "      <td>https://s3-media3.fl.yelpcdn.com/bphoto/FoJdoJ...</td>\n",
       "      <td>False</td>\n",
       "      <td>https://www.yelp.com/biz/marble-slab-creamery-...</td>\n",
       "      <td>58</td>\n",
       "      <td>[{'alias': 'icecream', 'title': 'Ice Cream &amp; F...</td>\n",
       "      <td>2.5</td>\n",
       "      <td>{'latitude': 30.3875064849854, 'longitude': -8...</td>\n",
       "      <td>[delivery]</td>\n",
       "      <td>$$</td>\n",
       "      <td>{'address1': '34904 Emerald Coast Pkwy', 'addr...</td>\n",
       "      <td>18502693210</td>\n",
       "      <td>(850) 269-3210</td>\n",
       "      <td>7437.602637</td>\n",
       "    </tr>\n",
       "    <tr>\n",
       "      <th>49</th>\n",
       "      <td>TfeRGFTHk09rOVOIOnWYrQ</td>\n",
       "      <td>subway-miramar-beach-3</td>\n",
       "      <td>Subway</td>\n",
       "      <td>https://s3-media2.fl.yelpcdn.com/bphoto/KqfXJH...</td>\n",
       "      <td>False</td>\n",
       "      <td>https://www.yelp.com/biz/subway-miramar-beach-...</td>\n",
       "      <td>5</td>\n",
       "      <td>[{'alias': 'sandwiches', 'title': 'Sandwiches'}]</td>\n",
       "      <td>2.5</td>\n",
       "      <td>{'latitude': 30.3793393965573, 'longitude': -8...</td>\n",
       "      <td>[delivery, pickup]</td>\n",
       "      <td>$</td>\n",
       "      <td>{'address1': '10859 Emerald Coast Pkwy', 'addr...</td>\n",
       "      <td>18506507494</td>\n",
       "      <td>(850) 650-7494</td>\n",
       "      <td>473.479965</td>\n",
       "    </tr>\n",
       "    <tr>\n",
       "      <th>50</th>\n",
       "      <td>Mh1lUGgQ8MX8WbKwOa_v9w</td>\n",
       "      <td>olive-garden-italian-restaurant-destin-3</td>\n",
       "      <td>Olive Garden Italian Restaurant</td>\n",
       "      <td>https://s3-media4.fl.yelpcdn.com/bphoto/vaHdA9...</td>\n",
       "      <td>False</td>\n",
       "      <td>https://www.yelp.com/biz/olive-garden-italian-...</td>\n",
       "      <td>60</td>\n",
       "      <td>[{'alias': 'italian', 'title': 'Italian'}, {'a...</td>\n",
       "      <td>2.5</td>\n",
       "      <td>{'latitude': 30.3887352553045, 'longitude': -8...</td>\n",
       "      <td>[]</td>\n",
       "      <td>$$</td>\n",
       "      <td>{'address1': '34970 Emerald Coast Pkwy', 'addr...</td>\n",
       "      <td>18506502307</td>\n",
       "      <td>(850) 650-2307</td>\n",
       "      <td>7014.187858</td>\n",
       "    </tr>\n",
       "    <tr>\n",
       "      <th>51</th>\n",
       "      <td>tCkEr8zqgUw2RB4OyRncFg</td>\n",
       "      <td>subway-santa-rosa-beach-4</td>\n",
       "      <td>Subway</td>\n",
       "      <td>https://s3-media1.fl.yelpcdn.com/bphoto/AMeCXe...</td>\n",
       "      <td>False</td>\n",
       "      <td>https://www.yelp.com/biz/subway-santa-rosa-bea...</td>\n",
       "      <td>5</td>\n",
       "      <td>[{'alias': 'sandwiches', 'title': 'Sandwiches'}]</td>\n",
       "      <td>2.0</td>\n",
       "      <td>{'latitude': 30.3745937, 'longitude': -86.274971}</td>\n",
       "      <td>[delivery]</td>\n",
       "      <td>NaN</td>\n",
       "      <td>{'address1': '7930 W Hwy 30A', 'address2': Non...</td>\n",
       "      <td>18506220637</td>\n",
       "      <td>(850) 622-0637</td>\n",
       "      <td>7276.871609</td>\n",
       "    </tr>\n",
       "    <tr>\n",
       "      <th>52</th>\n",
       "      <td>GXMJXdsPWNdkXtsxB0MMag</td>\n",
       "      <td>subway-destin-6</td>\n",
       "      <td>Subway</td>\n",
       "      <td>https://s3-media4.fl.yelpcdn.com/bphoto/WNUcGE...</td>\n",
       "      <td>False</td>\n",
       "      <td>https://www.yelp.com/biz/subway-destin-6?adjus...</td>\n",
       "      <td>8</td>\n",
       "      <td>[{'alias': 'sandwiches', 'title': 'Sandwiches'}]</td>\n",
       "      <td>3.0</td>\n",
       "      <td>{'latitude': 30.387948326591, 'longitude': -86...</td>\n",
       "      <td>[delivery, pickup]</td>\n",
       "      <td>$</td>\n",
       "      <td>{'address1': '34940 Emerald Coast Pkwy 188', '...</td>\n",
       "      <td>18506548055</td>\n",
       "      <td>(850) 654-8055</td>\n",
       "      <td>7213.618957</td>\n",
       "    </tr>\n",
       "  </tbody>\n",
       "</table>\n",
       "</div>"
      ],
      "text/plain": [
       "                        id                                     alias  \\\n",
       "48  o2vKK2oZayH3xXKJBcYIeg               marble-slab-creamery-destin   \n",
       "49  TfeRGFTHk09rOVOIOnWYrQ                    subway-miramar-beach-3   \n",
       "50  Mh1lUGgQ8MX8WbKwOa_v9w  olive-garden-italian-restaurant-destin-3   \n",
       "51  tCkEr8zqgUw2RB4OyRncFg                 subway-santa-rosa-beach-4   \n",
       "52  GXMJXdsPWNdkXtsxB0MMag                           subway-destin-6   \n",
       "\n",
       "                               name  \\\n",
       "48             Marble Slab Creamery   \n",
       "49                           Subway   \n",
       "50  Olive Garden Italian Restaurant   \n",
       "51                           Subway   \n",
       "52                           Subway   \n",
       "\n",
       "                                            image_url  is_closed  \\\n",
       "48  https://s3-media3.fl.yelpcdn.com/bphoto/FoJdoJ...      False   \n",
       "49  https://s3-media2.fl.yelpcdn.com/bphoto/KqfXJH...      False   \n",
       "50  https://s3-media4.fl.yelpcdn.com/bphoto/vaHdA9...      False   \n",
       "51  https://s3-media1.fl.yelpcdn.com/bphoto/AMeCXe...      False   \n",
       "52  https://s3-media4.fl.yelpcdn.com/bphoto/WNUcGE...      False   \n",
       "\n",
       "                                                  url  review_count  \\\n",
       "48  https://www.yelp.com/biz/marble-slab-creamery-...            58   \n",
       "49  https://www.yelp.com/biz/subway-miramar-beach-...             5   \n",
       "50  https://www.yelp.com/biz/olive-garden-italian-...            60   \n",
       "51  https://www.yelp.com/biz/subway-santa-rosa-bea...             5   \n",
       "52  https://www.yelp.com/biz/subway-destin-6?adjus...             8   \n",
       "\n",
       "                                           categories  rating  \\\n",
       "48  [{'alias': 'icecream', 'title': 'Ice Cream & F...     2.5   \n",
       "49   [{'alias': 'sandwiches', 'title': 'Sandwiches'}]     2.5   \n",
       "50  [{'alias': 'italian', 'title': 'Italian'}, {'a...     2.5   \n",
       "51   [{'alias': 'sandwiches', 'title': 'Sandwiches'}]     2.0   \n",
       "52   [{'alias': 'sandwiches', 'title': 'Sandwiches'}]     3.0   \n",
       "\n",
       "                                          coordinates        transactions  \\\n",
       "48  {'latitude': 30.3875064849854, 'longitude': -8...          [delivery]   \n",
       "49  {'latitude': 30.3793393965573, 'longitude': -8...  [delivery, pickup]   \n",
       "50  {'latitude': 30.3887352553045, 'longitude': -8...                  []   \n",
       "51  {'latitude': 30.3745937, 'longitude': -86.274971}          [delivery]   \n",
       "52  {'latitude': 30.387948326591, 'longitude': -86...  [delivery, pickup]   \n",
       "\n",
       "   price                                           location        phone  \\\n",
       "48    $$  {'address1': '34904 Emerald Coast Pkwy', 'addr...  18502693210   \n",
       "49     $  {'address1': '10859 Emerald Coast Pkwy', 'addr...  18506507494   \n",
       "50    $$  {'address1': '34970 Emerald Coast Pkwy', 'addr...  18506502307   \n",
       "51   NaN  {'address1': '7930 W Hwy 30A', 'address2': Non...  18506220637   \n",
       "52     $  {'address1': '34940 Emerald Coast Pkwy 188', '...  18506548055   \n",
       "\n",
       "     display_phone     distance  \n",
       "48  (850) 269-3210  7437.602637  \n",
       "49  (850) 650-7494   473.479965  \n",
       "50  (850) 650-2307  7014.187858  \n",
       "51  (850) 622-0637  7276.871609  \n",
       "52  (850) 654-8055  7213.618957  "
      ]
     },
     "metadata": {},
     "output_type": "display_data"
    }
   ],
   "source": [
    "final_df = pd.read_json(JSON_FILE)\n",
    "display(final_df.head(), final_df.tail())"
   ]
  },
  {
   "cell_type": "code",
   "execution_count": 23,
   "id": "2a791eea",
   "metadata": {},
   "outputs": [
    {
     "data": {
      "text/plain": [
       "0"
      ]
     },
     "execution_count": 23,
     "metadata": {},
     "output_type": "execute_result"
    }
   ],
   "source": [
    "#check for duplicates\n",
    "final_df.duplicated(subset='id').sum()"
   ]
  },
  {
   "cell_type": "code",
   "execution_count": 27,
   "id": "4307d881",
   "metadata": {},
   "outputs": [],
   "source": [
    "final_df.to_csv('Data/Final_results_pizza.csv.gz', \n",
    "               compression = 'gzip', index=False)"
   ]
  },
  {
   "cell_type": "code",
   "execution_count": null,
   "id": "35ae7f52",
   "metadata": {},
   "outputs": [],
   "source": []
  }
 ],
 "metadata": {
  "kernelspec": {
   "display_name": "Python (dojo-env)",
   "language": "python",
   "name": "dojo-env"
  },
  "language_info": {
   "codemirror_mode": {
    "name": "ipython",
    "version": 3
   },
   "file_extension": ".py",
   "mimetype": "text/x-python",
   "name": "python",
   "nbconvert_exporter": "python",
   "pygments_lexer": "ipython3",
   "version": "3.7.12"
  },
  "toc": {
   "base_numbering": 1,
   "nav_menu": {},
   "number_sections": false,
   "sideBar": true,
   "skip_h1_title": false,
   "title_cell": "Table of Contents",
   "title_sidebar": "Contents",
   "toc_cell": false,
   "toc_position": {},
   "toc_section_display": true,
   "toc_window_display": false
  }
 },
 "nbformat": 4,
 "nbformat_minor": 5
}
